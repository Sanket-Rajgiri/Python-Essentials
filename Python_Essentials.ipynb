{
  "nbformat": 4,
  "nbformat_minor": 0,
  "metadata": {
    "colab": {
      "name": "Python_Essentials.ipynb",
      "provenance": [],
      "authorship_tag": "ABX9TyMSGHhFmytMTUtV6du0k9JD",
      "include_colab_link": true
    },
    "kernelspec": {
      "name": "python3",
      "display_name": "Python 3"
    },
    "language_info": {
      "name": "python"
    }
  },
  "cells": [
    {
      "cell_type": "markdown",
      "metadata": {
        "id": "view-in-github",
        "colab_type": "text"
      },
      "source": [
        "<a href=\"https://colab.research.google.com/github/Sanket-Rajgiri/Python-Essentials/blob/main/Python_Essentials.ipynb\" target=\"_parent\"><img src=\"https://colab.research.google.com/assets/colab-badge.svg\" alt=\"Open In Colab\"/></a>"
      ]
    },
    {
      "cell_type": "markdown",
      "metadata": {
        "id": "pB_phny5Ace0"
      },
      "source": [
        "Assignment Day-1 Sort array in Descending Order"
      ]
    },
    {
      "cell_type": "code",
      "metadata": {
        "colab": {
          "base_uri": "https://localhost:8080/"
        },
        "id": "VRJURhO-AV84",
        "outputId": "540353da-bfde-4c34-d220-c813fd7350f4"
      },
      "source": [
        "list= [int(i) for i in input(\"Enter values:\").split()]\n",
        "\n",
        "print(\"Before Sorting: \",list)\n",
        "\n",
        "list.sort(reverse=True)\n",
        "\n",
        "print(\"After Sorting in descending order: \",list)\n",
        "\n"
      ],
      "execution_count": null,
      "outputs": [
        {
          "output_type": "stream",
          "text": [
            "Enter values:20 29 12 43 65 11 23\n",
            "Before Sorting:  [20, 29, 12, 43, 65, 11, 23]\n",
            "After Sorting in descending order:  [65, 43, 29, 23, 20, 12, 11]\n"
          ],
          "name": "stdout"
        }
      ]
    },
    {
      "cell_type": "markdown",
      "metadata": {
        "id": "brrrZgOZa_Ec"
      },
      "source": [
        "Assignment Day-2 Remove all occurences of an element from a list\n"
      ]
    },
    {
      "cell_type": "code",
      "metadata": {
        "colab": {
          "base_uri": "https://localhost:8080/"
        },
        "id": "9uQ_JdgnbNcH",
        "outputId": "9ab43e56-120a-4cfb-b780-5c1e93ad33d5"
      },
      "source": [
        "li=[1,2,1,6,4,2,7,3,2,9,6,0,2,5,8]\n",
        "\n",
        "print(li)\n",
        "\n",
        "# Remove all the two's from list\n",
        "\n",
        "for i in li:\n",
        "  if(i==2):\n",
        "    li.remove(2)\n",
        "\n",
        "\n",
        "print(li)"
      ],
      "execution_count": null,
      "outputs": [
        {
          "output_type": "stream",
          "text": [
            "[1, 2, 1, 6, 4, 2, 7, 3, 2, 9, 6, 0, 2, 5, 8]\n",
            "[1, 1, 6, 4, 7, 3, 9, 6, 0, 5, 8]\n"
          ],
          "name": "stdout"
        }
      ]
    },
    {
      "cell_type": "code",
      "metadata": {
        "colab": {
          "base_uri": "https://localhost:8080/"
        },
        "id": "rnpS_OyfcVnD",
        "outputId": "f91028dc-04bf-4ed8-f9de-e283e3ae2fa0"
      },
      "source": [
        "print(li)"
      ],
      "execution_count": null,
      "outputs": [
        {
          "output_type": "stream",
          "text": [
            "[1, 1, 6, 4, 7, 3, 9, 6, 0, 5, 8]\n"
          ],
          "name": "stdout"
        }
      ]
    },
    {
      "cell_type": "markdown",
      "metadata": {
        "id": "Q9jSUiAgd6hM"
      },
      "source": [
        "Assignment Day-2 Check if string is Pangram or not "
      ]
    },
    {
      "cell_type": "code",
      "metadata": {
        "colab": {
          "base_uri": "https://localhost:8080/"
        },
        "id": "QeTLG2mIbjNW",
        "outputId": "c1c18cfb-995a-4dee-a791-2ab36108efa3"
      },
      "source": [
        "string=\"To begin with, your interview preparations Enhance your Data Structures concepts \"\n",
        "flag=True\n",
        "alphabet=\"abcdefghijklmnopqrstuvwxyz\"\n",
        "\n",
        "for char in alphabet:\n",
        "  if char not in string.lower():\n",
        "    flag=False\n",
        "\n",
        "if(flag==True):\n",
        "  print(\"String is Pangram\")\n",
        "else :\n",
        "  print(\"String is not Pangram\")"
      ],
      "execution_count": null,
      "outputs": [
        {
          "output_type": "stream",
          "text": [
            "String is not Pangram\n"
          ],
          "name": "stdout"
        }
      ]
    },
    {
      "cell_type": "markdown",
      "metadata": {
        "id": "DLyMLXNAtsP0"
      },
      "source": [
        "**Assignment Day-3**"
      ]
    },
    {
      "cell_type": "markdown",
      "metadata": {
        "id": "Z2n6Il8Muc6i"
      },
      "source": [
        "Consider a person is represented by Pi, where i is the index of the following list.\n",
        "A list shows the person to whom person Pi has given the gift.\n",
        " \n",
        "Consider the below example:\n",
        "gift_presented_to = [2, 1, 5, 3, 4]\n",
        " \n",
        "This list is giving us the following details:\n",
        "Person P1 has given gift to person P2\n",
        "Person P2 has given gift to person P1\n",
        "Person P3 has given gift to person P5\n",
        "Person P4 has given gift to person P3\n",
        "Person P5 has given gift to person P4\n",
        " \n",
        "So for the given list, the list of persons from whom they have received the gift would be \n",
        "gift_received_from = [2, 1, 4, 5, 3]\n",
        " \n",
        "i.e.\n",
        "Person P1 has received gift from person P2\n",
        "Person P2 has received gift from person P1\n",
        "Person P3 has received gift from person P4\n",
        " \n",
        " \n",
        " \n",
        " \n",
        "Person P4 has received gift from person P5\n",
        "Person P5 has received gift from person P3\n",
        " \n",
        "Your task:\n",
        " \n",
        "Take input for the gift_presented_to[] list and print its respective gift_received_from[] list.\n"
      ]
    },
    {
      "cell_type": "code",
      "metadata": {
        "id": "guIrV8-Iud_r"
      },
      "source": [
        "gift_presented_to = [2, 1, 5, 3, 4]\n"
      ],
      "execution_count": null,
      "outputs": []
    },
    {
      "cell_type": "code",
      "metadata": {
        "colab": {
          "base_uri": "https://localhost:8080/"
        },
        "id": "QUiVlzJ4LbfN",
        "outputId": "a98a647c-061d-4352-92e5-3b8e311ca4ad"
      },
      "source": [
        "n=len(gift_presented_to)"
      ],
      "execution_count": null,
      "outputs": [
        {
          "output_type": "stream",
          "text": [
            "5\n"
          ],
          "name": "stdout"
        }
      ]
    },
    {
      "cell_type": "code",
      "metadata": {
        "id": "avT4YS3quq_z"
      },
      "source": [
        " gift_received_from = [0]*(n)"
      ],
      "execution_count": null,
      "outputs": []
    },
    {
      "cell_type": "code",
      "metadata": {
        "id": "5O7KcpcPMLHp"
      },
      "source": [
        "for i in range(0,n):\n",
        " x = gift_presented_to[i]\n",
        " gift_received_from[x-1]=i+1"
      ],
      "execution_count": null,
      "outputs": []
    },
    {
      "cell_type": "code",
      "metadata": {
        "colab": {
          "base_uri": "https://localhost:8080/"
        },
        "id": "2OY8JvHJNDZ4",
        "outputId": "0724591c-0f90-4a2f-c276-532ffaa08e6c"
      },
      "source": [
        "print(gift_received_from)"
      ],
      "execution_count": null,
      "outputs": [
        {
          "output_type": "stream",
          "text": [
            "[2, 1, 4, 5, 3]\n"
          ],
          "name": "stdout"
        }
      ]
    },
    {
      "cell_type": "markdown",
      "metadata": {
        "id": "QifajwVTZKwZ"
      },
      "source": [
        "FINAL PROJECT : **Temperature Converter**"
      ]
    },
    {
      "cell_type": "code",
      "metadata": {
        "id": "n5RVlsL5ZS3V"
      },
      "source": [
        "!pip install temperature-converter-py"
      ],
      "execution_count": null,
      "outputs": []
    },
    {
      "cell_type": "code",
      "metadata": {
        "id": "qeUQgmKLZRKB"
      },
      "source": [
        "from temperature_converter_py import celsius_to_fahrenheit as C_to_F\n",
        "from temperature_converter_py import fahrenheit_to_celsius as F_to_C \n",
        "from temperature_converter_py import celsius_to_kelvin as C_to_K \n",
        "from temperature_converter_py import kelvin_to_celsius as K_to_C \n",
        "from temperature_converter_py import fahrenheit_to_kelvin as F_to_K \n",
        "from temperature_converter_py import kelvin_to_fahrenheit as K_to_F "
      ],
      "execution_count": 54,
      "outputs": []
    },
    {
      "cell_type": "code",
      "metadata": {
        "colab": {
          "base_uri": "https://localhost:8080/"
        },
        "id": "qLlWLj1rdqDQ",
        "outputId": "6d03642c-b0a0-4829-c945-1be6efdff6d1"
      },
      "source": [
        "choice =1\n",
        "\n",
        "while choice!=0 :\n",
        "  print(\"Temperature Converter\")\n",
        "  print(\"1. Celsius to Fahrenheit\")\n",
        "  print(\"2. Fahrenheit to Celsius\")\n",
        "  print(\"3. Celsius to Kelvin\")\n",
        "  print(\"4. Kelvin to Celsius\")\n",
        "  print(\"5. Fahrenheit to Kelvin\")\n",
        "  print(\"6. Kelvin to Fahrenheit\")\n",
        "  print(\"0. Exit\")\n",
        "  choice= int(input(\"Enter Choice: \"))\n",
        "  if choice==0 :\n",
        "    break\n",
        "  elif choice == 1 :\n",
        "    temp=float(input(\"Enter temperature in Celsius to convert to Fahrenheit :\"))\n",
        "    print(C_to_F(temp),\"F\")\n",
        "  elif choice == 2 :\n",
        "    temp=float(input(\"Enter temperature in Fahrenheit to convert to Celsius :\"))\n",
        "    print(F_to_C(temp),\"C\")\n",
        "  elif choice == 3 :\n",
        "    temp=float(input(\"Enter temperature in Celsius to convert to Kelvin :\"))\n",
        "    print(C_to_K(temp),\"K\")\n",
        "  elif choice == 4 :\n",
        "     temp=float(input(\"Enter temperature in Kelvin to convert to Celsius :\"))\n",
        "     print(K_to_C(temp),\"C\")\n",
        "  elif choice == 5:\n",
        "     temp=float(input(\"Enter temperature in Fahrenheit to convert to Kelvin :\"))\n",
        "     print(F_to_K(temp),\"K\")\n",
        "  elif choice == 6:\n",
        "     temp=float(input(\"Enter temperature in Kelvin to convert to Fahrenheit :\"))\n",
        "     print(C_to_K(temp),\"F\")\n",
        "  elif choice > 6 :\n",
        "     print(\"Enter valid choice !!\")\n",
        "  n=int(input(\"Do you want to continue ? ( If Yes then enter '1' or else '0') :\"))\n",
        "  if n==0 :\n",
        "    break\n",
        "    "
      ],
      "execution_count": 57,
      "outputs": [
        {
          "output_type": "stream",
          "text": [
            "Temperature Converter\n",
            "1. Celsius to Fahrenheit\n",
            "2. Fahrenheit to Celsius\n",
            "3. Celsius to Kelvin\n",
            "4. Kelvin to Celsius\n",
            "5. Fahrenheit to Kelvin\n",
            "6. Kelvin to Fahrenheit\n",
            "0. Exit\n",
            "Enter Choice: 1\n",
            "Enter temperature in Celsius to convert to Fahrenheit :33.4\n",
            "92.12 F\n",
            "Do you want to continue ? ( If Yes then enter '1' or else '0')0\n"
          ],
          "name": "stdout"
        }
      ]
    },
    {
      "cell_type": "code",
      "metadata": {
        "id": "0IDUowaxZaT2"
      },
      "source": [
        "temp= float (input(\"Enter temperature in Degree Celsius to convert in Fahrenheit: \"))\n",
        "print(C_to_F(temp),\"F\")"
      ],
      "execution_count": null,
      "outputs": []
    }
  ]
}