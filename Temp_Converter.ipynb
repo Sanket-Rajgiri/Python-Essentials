{
  "nbformat": 4,
  "nbformat_minor": 0,
  "metadata": {
    "colab": {
      "name": "Temp_Converter.ipynb",
      "provenance": [],
      "authorship_tag": "ABX9TyNTldezbcTmEQQSHt7NxUJ2",
      "include_colab_link": true
    },
    "kernelspec": {
      "name": "python3",
      "display_name": "Python 3"
    },
    "language_info": {
      "name": "python"
    }
  },
  "cells": [
    {
      "cell_type": "markdown",
      "metadata": {
        "id": "view-in-github",
        "colab_type": "text"
      },
      "source": [
        "<a href=\"https://colab.research.google.com/github/Sanket-Rajgiri/Python-Essentials/blob/main/Temp_Converter.ipynb\" target=\"_parent\"><img src=\"https://colab.research.google.com/assets/colab-badge.svg\" alt=\"Open In Colab\"/></a>"
      ]
    },
    {
      "cell_type": "code",
      "metadata": {
        "colab": {
          "base_uri": "https://localhost:8080/"
        },
        "id": "BeXc-fHMgm3O",
        "outputId": "d49099ae-90d4-461a-fa23-1963ca75ea20"
      },
      "source": [
        "!pip install temperature-converter-py"
      ],
      "execution_count": 1,
      "outputs": [
        {
          "output_type": "stream",
          "text": [
            "Collecting temperature-converter-py\n",
            "  Downloading temperature_converter_py-1.0.1-py3-none-any.whl (3.3 kB)\n",
            "Installing collected packages: temperature-converter-py\n",
            "Successfully installed temperature-converter-py-1.0.1\n"
          ],
          "name": "stdout"
        }
      ]
    },
    {
      "cell_type": "code",
      "metadata": {
        "id": "JvsTJsmFgyhA"
      },
      "source": [
        "from temperature_converter_py import celsius_to_fahrenheit as C_to_F"
      ],
      "execution_count": 2,
      "outputs": []
    },
    {
      "cell_type": "code",
      "metadata": {
        "id": "cZraWYmSg1lU"
      },
      "source": [
        "temp= float (input(\"Enter temperature in Degree Celsius to convert in Fahrenheit: \"))\n",
        "print(C_to_F(temp),\"F\")"
      ],
      "execution_count": null,
      "outputs": []
    }
  ]
}